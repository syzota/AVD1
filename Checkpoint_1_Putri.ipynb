{
  "nbformat": 4,
  "nbformat_minor": 0,
  "metadata": {
    "colab": {
      "provenance": [],
      "include_colab_link": true
    },
    "kernelspec": {
      "name": "python3",
      "display_name": "Python 3"
    },
    "language_info": {
      "name": "python"
    }
  },
  "cells": [
    {
      "cell_type": "markdown",
      "metadata": {
        "id": "view-in-github",
        "colab_type": "text"
      },
      "source": [
        "<a href=\"https://colab.research.google.com/github/syzota/AVD1/blob/main/Checkpoint_1_Putri.ipynb\" target=\"_parent\"><img src=\"https://colab.research.google.com/assets/colab-badge.svg\" alt=\"Open In Colab\"/></a>"
      ]
    },
    {
      "cell_type": "markdown",
      "source": [
        "# **BUSSINESS UNDERSTANDING**"
      ],
      "metadata": {
        "id": "ZeKlVPGVaFjk"
      }
    },
    {
      "cell_type": "markdown",
      "source": [
        "# **Analytical Purpose**"
      ],
      "metadata": {
        "id": "aJgtXetzcdYJ"
      }
    },
    {
      "cell_type": "markdown",
      "source": [
        "Tujuan utama proyek ini adalah untuk memahami pengaruh tren musik tahun 2000-an terhadap perilaku konsumen dan strategi bisnis modern. Dengan menganalisis elemen-elemen musik seperti genre dan popularitas lagu, proyek ini akan mengembangkan pendekatan pemasaran berbasis hobi kesukaan orang kebanyakan tanpa memandang generasi, juga meningkatkan keterlibatan orang-orang melalui konten dari musik yang sesuai dengan preferensi mereka. Penelitian ini juga bertujuan untuk mengidentifikasi cara penulis lagu, penyanyi, dan semacamnya dalam menciptakan elemen musik, agar menjadi referensi sehingga kedepannya bisnis ini dapat disukai masyarakat luas."
      ],
      "metadata": {
        "id": "cX1seUXjch4x"
      }
    },
    {
      "cell_type": "markdown",
      "source": [
        "# **Assess Situation**"
      ],
      "metadata": {
        "id": "AOZ12P3eblyp"
      }
    },
    {
      "cell_type": "markdown",
      "source": [
        "Pada tahun 2025, industri musik terus mengalami transformasi dengan teknologi AI, streaming berbasis algoritma, dan interaksi langsung melalui platform seperti TikTok, Spotify, dan YouTube Music. Meskipun begitu, tak hanya generasi yang mengalami era tersebut, musik tahun 2000-an tetap memiliki daya tarik kuat ke generasi yang lebih muda. Genre seperti pop, hip-hop, dan rock alternatif masih memiliki pengaruh besar. Dalam bisnis, memahami bagaimana elemen musik tahun 2000-an memengaruhi popularitas hingga mendapat laba, juga dapat membentuk pengalaman pendengar di era saat ini menjadi kunci untuk strategi pemasaran yang lebih efektif. Oleh karena itu, analisis tren musik tahun 2000-an dalam konteks 2025 menjadi penting untuk mengidentifikasi peluang bisnis yang tetap relevan dengan preferensi audiens modern."
      ],
      "metadata": {
        "id": "YOIPdLducb0t"
      }
    },
    {
      "cell_type": "markdown",
      "source": [
        "# **Data Mining Goals**"
      ],
      "metadata": {
        "id": "F6QkwvQHcXEC"
      }
    },
    {
      "cell_type": "markdown",
      "source": [
        "Mengidentifikasi pola dan tren dalam musik tahun 2000-an yang berdampak pada perilaku pendengar dan peluang monetisasi dalam berbagai industri, terutama seni, penelitian ini akan menganalisis data seperti BPM, energi, danceability, dan popularitas lagu untuk menemukan hubungan antara elemen musik dan keterlibatan pendengar.  Selain itu, proyek ini akan menyelidiki bagaimana relevansi dengan musik era 2000-an dapat digunakan dalam pendekatan pemasaran untuk meningkatkan daya tarik dan menghasilkan pengalaman yang lebih mendalam bagi seniman dan pendengar."
      ],
      "metadata": {
        "id": "1pUnOqNsbmxu"
      }
    },
    {
      "cell_type": "markdown",
      "source": [
        "# **Project Plan**"
      ],
      "metadata": {
        "id": "owMAxa3ack3d"
      }
    },
    {
      "cell_type": "markdown",
      "source": [
        "Pertama, menggunakan dataset Spotify yang berisi 2000 lagu tren tahun 2000-an dengan atribut seperti BPM, danceability, popularitas, dan lainnya. Lalu data akan dibersihkan dan diolah untuk memastikan keakuratan dan konsistensi.\n",
        "\n",
        "Setelah pembersihan selesai, masuk ke tahap menganalisis distribusi BPM, genre, dan karakteristik lagu lainnya untuk mengidentifikasi pola umum, agar menemukan korelasi antara elemen musik dan engagement audiens. Hasil dari pengolahan tersebut akan disajikan dalam bentuk visual yang mudah dipahami. Proses ini diharapkan dapat membantu dalam mengembangkan rekomendasi strategi bisnis berbasis data untuk pihak  yang ingin memanfaatkan tren musik tahun 2000-an untuk mendapat laba."
      ],
      "metadata": {
        "id": "I1bzL3QTot_g"
      }
    },
    {
      "cell_type": "code",
      "source": [],
      "metadata": {
        "id": "2TQRzMcsoujL"
      },
      "execution_count": null,
      "outputs": []
    }
  ]
}